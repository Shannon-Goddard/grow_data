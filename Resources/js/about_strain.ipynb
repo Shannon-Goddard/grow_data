{
 "cells": [
  {
   "cell_type": "code",
   "execution_count": null,
   "metadata": {},
   "outputs": [],
   "source": [
    "# Import dependencies\n",
    "import requests\n",
    "from bs4 import BeautifulSoup\n",
    "import pandas as pd\n",
    "import numpy as np\n",
    "import os \n",
    "from urllib.request import urlopen\n",
    "import pprint\n",
    "import re"
   ]
  },
  {
   "cell_type": "code",
   "execution_count": null,
   "metadata": {},
   "outputs": [],
   "source": [
    "# Import our input dataset\n",
    "df = pd.read_csv('../Resources/strain_logo_data.csv', index_col=0)\n",
    "df.head()"
   ]
  },
  {
   "cell_type": "code",
   "execution_count": null,
   "metadata": {},
   "outputs": [],
   "source": [
    "# Using BlankIndex to print DataFrame without index \n",
    "blankIndex=[''] * len(df)\n",
    "df.index=blankIndex"
   ]
  },
  {
   "cell_type": "code",
   "execution_count": null,
   "metadata": {},
   "outputs": [],
   "source": [
    "# Scraping wikileaf websites for multiple text \n",
    "web = df['about'].values[0]\n",
    "inf = []\n",
    "\n",
    "for i in range(2792):\n",
    "    \n",
    "    url = web\n",
    "    try:\n",
    "        request = requests.get(url)\n",
    "        soup = BeautifulSoup(request.text, \"html.parser\")\n",
    "        \n",
    "    except Exception as e:\n",
    "        pass\n",
    "    \n",
    "    texts = soup.find_all('p', limit = 6)\n",
    "    for text in texts:\n",
    "        \n",
    "        inf.append(text)\n",
    "        print(text.get_text())\n",
    "    \n",
    "    web = df['about'].values[i+1]"
   ]
  },
  {
   "cell_type": "code",
   "execution_count": null,
   "metadata": {},
   "outputs": [],
   "source": [
    "# Data is a list in a single column\n",
    "info = [inf]\n",
    "df2 = pd.DataFrame(info)\n",
    "df2 = df2.transpose()\n",
    "df2.columns = ['Info']\n",
    "df2.head()"
   ]
  },
  {
   "cell_type": "code",
   "execution_count": null,
   "metadata": {},
   "outputs": [],
   "source": [
    "# Creating new blank columns\n",
    "df2[\"THC\"] = \" \"\n",
    "df2[\"CBD\"] = \" \"\n",
    "df2[\"Sativa\"] = \" \"\n",
    "df2[\"Indica\"] = \" \"\n",
    "df2['more'] = \" \"\n",
    "df2"
   ]
  },
  {
   "cell_type": "code",
   "execution_count": null,
   "metadata": {},
   "outputs": [],
   "source": [
    "# Adding values to the new columns by iloc of df list\n",
    "new_df = pd.DataFrame({'THC':df2['Info'].iloc[::6].values,\n",
    "                       'CBD':df2['Info'].iloc[1::6].values, \n",
    "                       'Sativa':df2['Info'].iloc[2::6].values,\n",
    "                       'Indica':df2['Info'].iloc[3::6].values,\n",
    "                       'Info':df2['Info'].iloc[4::6].values, \n",
    "                      'more':df2['Info'].iloc[5::6].values})\n",
    "new_df"
   ]
  },
  {
   "cell_type": "code",
   "execution_count": null,
   "metadata": {},
   "outputs": [],
   "source": [
    "# Save as .csv\n",
    "os.makedirs('../Resources/', exist_ok=True)  \n",
    "new_df.to_csv('../Resources/more_info_data.csv') "
   ]
  }
 ],
 "metadata": {
  "kernelspec": {
   "display_name": "PythonData",
   "language": "python",
   "name": "pythondata"
  },
  "language_info": {
   "codemirror_mode": {
    "name": "ipython",
    "version": 3
   },
   "file_extension": ".py",
   "mimetype": "text/x-python",
   "name": "python",
   "nbconvert_exporter": "python",
   "pygments_lexer": "ipython3",
   "version": "3.6.9"
  }
 },
 "nbformat": 4,
 "nbformat_minor": 2
}
