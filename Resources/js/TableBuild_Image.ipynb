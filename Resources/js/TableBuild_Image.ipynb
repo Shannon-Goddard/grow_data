{
 "cells": [
  {
   "cell_type": "code",
   "execution_count": null,
   "metadata": {},
   "outputs": [],
   "source": [
    "# Import dependencies\n",
    "import requests\n",
    "from bs4 import BeautifulSoup\n",
    "import pandas as pd\n",
    "import numpy as np\n",
    "import os \n",
    "from urllib.request import urlopen\n",
    "import pprint\n",
    "import re"
   ]
  },
  {
   "cell_type": "code",
   "execution_count": null,
   "metadata": {},
   "outputs": [],
   "source": [
    "# Import our input dataset\n",
    "df = pd.read_csv('../Resources/strain_data.csv', index_col=0)\n",
    "df.head()"
   ]
  },
  {
   "cell_type": "code",
   "execution_count": null,
   "metadata": {},
   "outputs": [],
   "source": [
    "# Using BlankIndex to print DataFrame without index \n",
    "blankIndex=[''] * len(df)\n",
    "df.index=blankIndex"
   ]
  },
  {
   "cell_type": "code",
   "execution_count": null,
   "metadata": {},
   "outputs": [],
   "source": [
    "# Remove # from web address\n",
    "df.about = df.about.replace({'#': ''}, regex=True)"
   ]
  },
  {
   "cell_type": "code",
   "execution_count": null,
   "metadata": {},
   "outputs": [],
   "source": [
    "# Remove \" and ' from web address\n",
    "df.about = df.about.str.replace(r\"[\\\"\\',]\", '')"
   ]
  },
  {
   "cell_type": "code",
   "execution_count": null,
   "metadata": {},
   "outputs": [],
   "source": [
    "# Scraping all strain images from individual webpages\n",
    "web = df['about'].values[0]\n",
    "image = []\n",
    "\n",
    "for i in range(2792):\n",
    "    \n",
    "    url = web\n",
    "    try:\n",
    "        request = requests.get(url)\n",
    "        soup = BeautifulSoup(request.text, \"html.parser\")\n",
    "        \n",
    "    except Exception as e:\n",
    "        pass\n",
    "    \n",
    "    link = soup.find(\"img\", class_='logo')\n",
    "    image.append(link)\n",
    "    print(link[\"src\"])\n",
    "    \n",
    "    web = df['about'].values[i+1]"
   ]
  },
  {
   "cell_type": "code",
   "execution_count": null,
   "metadata": {},
   "outputs": [],
   "source": [
    "# List to df column\n",
    "logo = [image]\n",
    "df2 = pd.DataFrame(logo)\n",
    "df2 = df2.transpose()\n",
    "df2.head()"
   ]
  },
  {
   "cell_type": "code",
   "execution_count": null,
   "metadata": {},
   "outputs": [],
   "source": [
    "# Name column to call\n",
    "df2.columns = ['logo']"
   ]
  },
  {
   "cell_type": "code",
   "execution_count": null,
   "metadata": {},
   "outputs": [],
   "source": [
    "# Save as .csv\n",
    "os.makedirs('../Resources/', exist_ok=True)  \n",
    "df2.to_csv('../Resources/strain_logo_data.csv') "
   ]
  }
 ],
 "metadata": {
  "kernelspec": {
   "display_name": "PythonData",
   "language": "python",
   "name": "pythondata"
  },
  "language_info": {
   "codemirror_mode": {
    "name": "ipython",
    "version": 3
   },
   "file_extension": ".py",
   "mimetype": "text/x-python",
   "name": "python",
   "nbconvert_exporter": "python",
   "pygments_lexer": "ipython3",
   "version": "3.6.9"
  }
 },
 "nbformat": 4,
 "nbformat_minor": 2
}
